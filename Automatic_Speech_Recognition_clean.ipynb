{
 "cells": [
  {
   "cell_type": "markdown",
   "id": "5e6c51b1",
   "metadata": {
    "id": "5e6c51b1"
   },
   "source": [
    "# Automatic Speech Recognition"
   ]
  },
  {
   "cell_type": "code",
   "execution_count": null,
   "id": "gjiEz7hsAccr",
   "metadata": {
    "colab": {
     "base_uri": "https://localhost:8080/"
    },
    "id": "gjiEz7hsAccr",
    "outputId": "992282d0-ee98-4ccb-9de2-6f70a74a66ea"
   },
   "outputs": [],
   "source": [
    "  !pip install transformers\n",
    "  !pip install -U datasets\n",
    "  !pip install soundfile\n",
    "  !pip install librosa\n",
    "  !pip install gradio"
   ]
  },
  {
   "cell_type": "markdown",
   "id": "9d654d27-1e91-416c-be34-37e830800585",
   "metadata": {
    "id": "9d654d27-1e91-416c-be34-37e830800585"
   },
   "source": [
    "- Here is some code that suppresses warning messages."
   ]
  },
  {
   "cell_type": "code",
   "execution_count": null,
   "id": "3f3f4054-9a14-4f41-820f-e07197890390",
   "metadata": {
    "height": 47,
    "id": "3f3f4054-9a14-4f41-820f-e07197890390"
   },
   "outputs": [],
   "source": [
    "from transformers.utils import logging\n",
    "logging.set_verbosity_error()"
   ]
  },
  {
   "cell_type": "markdown",
   "id": "61707b14",
   "metadata": {
    "id": "61707b14"
   },
   "source": [
    "### Data preparation"
   ]
  },
  {
   "cell_type": "code",
   "execution_count": null,
   "id": "8e11e596",
   "metadata": {
    "height": 30,
    "id": "8e11e596",
    "tags": []
   },
   "outputs": [],
   "source": [
    "from datasets import load_dataset"
   ]
  },
  {
   "cell_type": "code",
   "execution_count": null,
   "id": "1b0a5065-8210-435d-a04a-1bda7e8bf596",
   "metadata": {
    "colab": {
     "base_uri": "https://localhost:8080/",
     "height": 205,
     "referenced_widgets": [
      "52c6b03a569340479d32a6309b5baa75",
      "5d51acd9c42549de958de62d0d65fe1d",
      "bcb8ade06d2442ce95018703706f92d5",
      "54489167fa0c42dba9c7796818557969",
      "7cc3fac24eb245c08f510e4d50197d50",
      "696002346c664b3ab38aef82f9734515",
      "db1c232b4e99467cbff449f0b31e631b",
      "be2b92b4cced4b2eb51dc8e79b90ab6d",
      "8908836cdaa24ac78fd242525c92e36f",
      "5872cdc90d914c31994a9ebcefd76c9b",
      "09027f888b5d43ee93b2fcbe795d66fc",
      "05073e7d2a0a4c8fa8eb0f35c5a1ce37",
      "c1bd925dfe25415d80b251c694276083",
      "90b0fda119184d838ecb9bcb9c9dc381",
      "00fd1327d5894120830db41550af9a7f",
      "acd2493f7cca41a99ad473e1823da5e8",
      "4beb0bcdeff84ad18d54915dcbd99f8b",
      "66c24c195c454d3393fb2ca00b606c83",
      "9592b98ce7e3428db0fbe48b53f87085",
      "2776e472c7c44e54adbb1f939d23ce3e",
      "b4b35f08111a4ffdb1125c9c96334240",
      "36daa906f0a94361ace726ac729c16da"
     ]
    },
    "height": 81,
    "id": "1b0a5065-8210-435d-a04a-1bda7e8bf596",
    "outputId": "dfeb38b1-a2b6-4b51-d235-e13bdcfe2026"
   },
   "outputs": [],
   "source": [
    "dataset = load_dataset(\"librispeech_asr\",\n",
    "                       split=\"train.clean.100\",\n",
    "                       streaming=True,\n",
    "                       trust_remote_code=True)"
   ]
  },
  {
   "cell_type": "code",
   "execution_count": null,
   "id": "dc38a0be-db12-46f3-ba59-6a6f990423c4",
   "metadata": {
    "height": 30,
    "id": "dc38a0be-db12-46f3-ba59-6a6f990423c4"
   },
   "outputs": [],
   "source": [
    "example = next(iter(dataset))"
   ]
  },
  {
   "cell_type": "code",
   "execution_count": null,
   "id": "c54e08d6-4b68-4d87-8a8c-f28b5981a854",
   "metadata": {
    "colab": {
     "base_uri": "https://localhost:8080/"
    },
    "height": 47,
    "id": "c54e08d6-4b68-4d87-8a8c-f28b5981a854",
    "outputId": "0335990f-bdf5-4abf-ac99-001cf9ee5ae3"
   },
   "outputs": [],
   "source": [
    "dataset_head = dataset.take(5)\n",
    "list(dataset_head)"
   ]
  },
  {
   "cell_type": "code",
   "execution_count": null,
   "id": "ba094634-00a2-469b-8862-ee7d68e72d86",
   "metadata": {
    "colab": {
     "base_uri": "https://localhost:8080/"
    },
    "height": 30,
    "id": "ba094634-00a2-469b-8862-ee7d68e72d86",
    "outputId": "d2748f23-2619-4a76-91a2-1c3383128654"
   },
   "outputs": [],
   "source": [
    "list(dataset_head)[2]"
   ]
  },
  {
   "cell_type": "code",
   "execution_count": null,
   "id": "c2932356-2ea0-4797-a1eb-d0cd30cacedc",
   "metadata": {
    "colab": {
     "base_uri": "https://localhost:8080/"
    },
    "height": 30,
    "id": "c2932356-2ea0-4797-a1eb-d0cd30cacedc",
    "outputId": "5c582f55-b8f0-4977-a22a-04e80c225c36"
   },
   "outputs": [],
   "source": [
    "example"
   ]
  },
  {
   "cell_type": "code",
   "execution_count": null,
   "id": "1ff63caa-aa7b-4da2-9317-4ec30999c0af",
   "metadata": {
    "colab": {
     "base_uri": "https://localhost:8080/",
     "height": 75
    },
    "height": 81,
    "id": "1ff63caa-aa7b-4da2-9317-4ec30999c0af",
    "outputId": "3a3d9417-7a6c-4af2-ec5d-9584c23e1218"
   },
   "outputs": [],
   "source": [
    "from IPython.display import Audio as IPythonAudio\n",
    "\n",
    "IPythonAudio(example[\"audio\"][\"array\"],\n",
    "             rate=example[\"audio\"][\"sampling_rate\"])"
   ]
  },
  {
   "cell_type": "markdown",
   "id": "5fda63f6",
   "metadata": {
    "id": "5fda63f6"
   },
   "source": [
    "### Build the pipeline"
   ]
  },
  {
   "cell_type": "code",
   "execution_count": null,
   "id": "cb518e06",
   "metadata": {
    "height": 30,
    "id": "cb518e06"
   },
   "outputs": [],
   "source": [
    "from transformers import pipeline"
   ]
  },
  {
   "cell_type": "code",
   "execution_count": null,
   "id": "15499e9e-d3c1-4010-997a-2be716c241c7",
   "metadata": {
    "colab": {
     "base_uri": "https://localhost:8080/",
     "height": 369,
     "referenced_widgets": [
      "0136f8e8a8ad461fb39fc246b4fbb45b",
      "cb80f77235b64d1b904ecfd37c698c1d",
      "125442669808441dbbae734348385a31",
      "8b5b9d5d2e6549c79eee7b914afcf9fe",
      "745ee29371af4eb9a332e684c46edc1d",
      "08306136c58b48f7932427c585fe6d61",
      "42804ffb96cf452c97e0979467619f21",
      "d4a12811652243bd9e7f2809884c4812",
      "1e55be32947f4f0c97166c6212e9fa4e",
      "628c9e3903e947d78c8523d043cba646",
      "723b9877987846afb39b7d0078dbb6d0",
      "6db7c7b981d341349b61cd35bdf2ceca",
      "fc112be5ecf244f58f13bbe92eb6dc62",
      "21f50f35004948a88ee8b2af11799028",
      "aad6ad5146f14ea0b4cd4f841ad55234",
      "01d8b46dd0884fd6bfedbc9cbb1286f1",
      "464a6b448ea247e7981e75a5a7fda823",
      "6a10541914dc49a1bce15a03d46e410a",
      "670f94bcae8c4491bf2ec5235d81f246",
      "7ae1608d4bf042aeb31dd22e00f0be3a",
      "d707ca049910404d8c86140427e994b6",
      "bfe8ad224fd94e6db49a62e7bc9e14f8",
      "952650bb99a54670b4b24c85227fc6a4",
      "03d73c2503104d57ab5fb3441a2f75a1",
      "898614b17a334a78a7e4fcb16245a06f",
      "33a6ae42f26c46968e4ba3bdd1ee69dd",
      "4ae2df41717d46caac901142fc9e3937",
      "43d56bc8d02d4b2a9a26c2cc08af265f",
      "317ef8143e1342fd8bf8fa7e5513d76b",
      "7dd1687317d5492499daf1e051b196c3",
      "5e8caaf17489406d836a746c8d461531",
      "60b44585c5ba4184bf10dabdb9aaed77",
      "cff3d25dcfea4808b10268d4326a2550",
      "937bffe49e98433ca290246a4731b0d9",
      "bc6e45a8c9724000ac3788d3ca08d690",
      "7458e9ff684f4125993d7a9070ceb55f",
      "fa473454d90c4f64a1a27298b31f91e5",
      "d9d590371f0d484cb347d27b12ca2f14",
      "609835849a6d4d0d9aace147687fca59",
      "cc86705e957a4fc4afe456c7e29fa1e3",
      "653793f237234afe84bcce73d85b704e",
      "299737abf9c646b4a94a1f288db566f2",
      "32908719231046f4a8f4c472f38a6f85",
      "f3c5206f86e24e6193a3a76c5132132c",
      "c2e351cdea794bea9db92084dc2e6df6",
      "562748ebb2714088aa3a86dcd41785cf",
      "f8611d65fe144bb8bc312b402f0cedda",
      "8cfec9e79ead43f9b2dfd4995085ab45",
      "46e59b18b6a44f55ac0fc579d0cd24bf",
      "3cc6c63213ff4c9caa968788f752d4d4",
      "cc7c5aa9fd3747b18e6a63f06843e17f",
      "1e963eb765224c60967be4acaa748798",
      "2b0032ae88c948d884818473988f41f2",
      "d3ab82725287469f85a87ce5aee1ec00",
      "4bd6492a05754f549640ca8966f128d0",
      "aba815eaf0f6469e8cf7946e8e45b553",
      "958b8b606c1345d98b4acdba4fad4d10",
      "6a339793393e446287ee39fa758cd805",
      "c14050c9ca84473bba0bd1197166dd94",
      "5512c31bb131477085b34f58f1832f55",
      "808f431aa8b14f78ab735b1c258db020",
      "fa63cf07eff8401e852bb31fa403f88c",
      "00a2b7bc9cc544c0803b7fa7d10c7bb3",
      "b665ee2cac9e456687c00c17e38c074d",
      "b836d54230b44781963ac1106a75d336",
      "6af6e70261fe45949fda78740b926e2d",
      "32a8eb82f2dc4607993fd34cd7865015",
      "ce0f6b8a1f6043e195f46866cf2886cd",
      "193c7d27e6824145b41892cffe02781d",
      "18288aeecc4448e293b138d4d8f537f4",
      "6f4328fb403a4a4199afb7d58603d575",
      "c536a78bafec4fbfa9a8820ffb931080",
      "f9ab654baedc46649ac703250c8b73a3",
      "ed3083c8f07847168a59b33f3344a6ad",
      "b0a554b634454e7dab7d5bcad70f32fe",
      "273c8e3b620f4a29be89b66d5afb5856",
      "13b305af1d22468c8201679c95e29e23",
      "7d24018bee7546698511fbcef17b64a1",
      "c529c875561d46a2b2d780584d736abc",
      "b66b6e56582a4771aae744bf27e7a0cb",
      "93071695aabe4e72ba2fac0b9b8f1c20",
      "0668728e85c0447cb607d6baa3fb6bb1",
      "20520142542340618073fd007423d497",
      "6fe53a63c88a40f9afa2d86af272c9d1",
      "c361ef9378884b049bcceb4f1e44ef01",
      "20350543327f43999b2b37fa5b7883d9",
      "102c30da5aa642ec9127b4134794fafd",
      "8589941dc362400b9f858af6e50c2e8a",
      "901d1ec398ff468e8608bb6c73e56d27",
      "1e5eb59832014441be165aecaba59d4c",
      "deeee8d3542047d9b422a00e29b5e94c",
      "f7ea333e4d454ece8ca2ee5a4e657e7d",
      "459facb4b0054ff3841280d9583b3638",
      "471ccba5914a490fa19e99ec7fd70ef8",
      "07ff582b94ef49baa026ee8904c43ea8",
      "757d4d3637034b898f633bc4cbef5824",
      "71c7f18c8640464898358f0ba98758e5",
      "12ebcbbe9aee44bf84d535313fe3cacb",
      "06bf476f1da849d5985b843418c29469",
      "9e559cf7b9c142398bd6dd9ffe9ba1b2",
      "3554b5bb942e4e84aa8acb318a14a2c6",
      "455b419656a44359a22683b3851c3762",
      "a28e0c6a05b24ddabed2e231f946ea20",
      "703a556b7e924b2e97889633c758eb73",
      "e17cf87fa7614ff6872e0148c9e83921",
      "6252d75cf34944ba98ad294fe8a7075f",
      "b608f2b9f56441d5bdf0d97b5572d9a4",
      "f9b3eca120fa41d18a0580557b027d0e",
      "048b9628399d4502ab788969d01aaca4",
      "48cf1f3eb25a417e9072e46b88e929b3",
      "315b63c901d8441a8d72806a8a95558e",
      "b5ae75ceaf2e4187b7f24b06b9133da5",
      "33edaaa7745b46f98e7d3e56bbf69c6a",
      "0be1697e4a8d4d12b0d176f5feb25164",
      "25b547c3f99b492ebf5acacc231007ec",
      "7c7ed91923d74889a35286bcfe1b1b3c",
      "8ac4081535bd4502a98fbebb1c3835fc",
      "743f0951620c45eb9eb783de1f90e709",
      "77f9648b39a74f01af4178edafe56f24",
      "b5527c3ebf664bd396756502b2ea4b87",
      "f5454a8425b24e638950097cabcbc15a"
     ]
    },
    "height": 47,
    "id": "15499e9e-d3c1-4010-997a-2be716c241c7",
    "outputId": "6c686fd2-980b-4107-fee6-bed9ccafdd52"
   },
   "outputs": [],
   "source": [
    "asr = pipeline(\"automatic-speech-recognition\", model=\"openai/whisper-tiny\")"
   ]
  },
  {
   "cell_type": "code",
   "execution_count": null,
   "id": "ea81f743-6e8b-4021-b9b1-1d1873b88fd0",
   "metadata": {
    "colab": {
     "base_uri": "https://localhost:8080/"
    },
    "height": 30,
    "id": "ea81f743-6e8b-4021-b9b1-1d1873b88fd0",
    "outputId": "8f3fca21-e3f8-4e08-fa37-d374847e41f5"
   },
   "outputs": [],
   "source": [
    "asr.feature_extractor.sampling_rate"
   ]
  },
  {
   "cell_type": "code",
   "execution_count": null,
   "id": "18ae7edb-d852-4fd7-adcf-c0274b494a4b",
   "metadata": {
    "colab": {
     "base_uri": "https://localhost:8080/"
    },
    "height": 30,
    "id": "18ae7edb-d852-4fd7-adcf-c0274b494a4b",
    "outputId": "05491617-ff44-4b23-e787-d3cd37be672e"
   },
   "outputs": [],
   "source": [
    "example['audio']['sampling_rate']"
   ]
  },
  {
   "cell_type": "code",
   "execution_count": null,
   "id": "786cca9b-1fe0-404c-baf3-26e03a6d1ab1",
   "metadata": {
    "colab": {
     "base_uri": "https://localhost:8080/"
    },
    "height": 30,
    "id": "786cca9b-1fe0-404c-baf3-26e03a6d1ab1",
    "outputId": "6fe00fef-b8f5-4923-9017-a21f1573a1fd"
   },
   "outputs": [],
   "source": [
    "asr(example[\"audio\"][\"array\"])"
   ]
  },
  {
   "cell_type": "code",
   "execution_count": null,
   "id": "05e5a0ef-81b8-4e4d-8a15-cd063860a9de",
   "metadata": {
    "colab": {
     "base_uri": "https://localhost:8080/",
     "height": 53
    },
    "height": 30,
    "id": "05e5a0ef-81b8-4e4d-8a15-cd063860a9de",
    "outputId": "818ac532-d973-4e93-ed98-f881bf1ea8e7"
   },
   "outputs": [],
   "source": [
    "example[\"text\"]"
   ]
  }
 ],
 "metadata": {
  "colab": {
   "provenance": []
  },
  "kernelspec": {
   "display_name": "Python 3",
   "name": "python3"
  },
  "language_info": {
   "codemirror_mode": {
    "name": "ipython",
    "version": 3
   },
   "file_extension": ".py",
   "mimetype": "text/x-python",
   "name": "python",
   "nbconvert_exporter": "python",
   "pygments_lexer": "ipython3",
   "version": "3.9.18"
  }
 },
 "nbformat": 4,
 "nbformat_minor": 5
}
